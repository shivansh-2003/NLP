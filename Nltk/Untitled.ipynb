{
 "cells": [
  {
   "cell_type": "code",
   "execution_count": 19,
   "id": "c5cb6862",
   "metadata": {},
   "outputs": [
    {
     "name": "stdout",
     "output_type": "stream",
     "text": [
      "\u001b[33mDEPRECATION: Loading egg at /Users/shivanshmahajan/anaconda3/lib/python3.11/site-packages/DiamondPricePrediction-0.0.1-py3.11.egg is deprecated. pip 23.3 will enforce this behaviour change. A possible replacement is to use pip for package installation..\u001b[0m\u001b[33m\r\n",
      "\u001b[0m\u001b[33mDEPRECATION: Loading egg at /Users/shivanshmahajan/anaconda3/lib/python3.11/site-packages/Diamond_price_prediction-0.0.1-py3.11.egg is deprecated. pip 23.3 will enforce this behaviour change. A possible replacement is to use pip for package installation..\u001b[0m\u001b[33m\r\n",
      "\u001b[0m\u001b[33mDEPRECATION: Loading egg at /Users/shivanshmahajan/anaconda3/lib/python3.11/site-packages/fonttools-4.46.0-py3.11-macosx-11.1-arm64.egg is deprecated. pip 23.3 will enforce this behaviour change. A possible replacement is to use pip for package installation..\u001b[0m\u001b[33m\r\n",
      "\u001b[0mRequirement already satisfied: nltk in /Users/shivanshmahajan/anaconda3/lib/python3.11/site-packages (3.8.1)\r\n",
      "Requirement already satisfied: click in /Users/shivanshmahajan/anaconda3/lib/python3.11/site-packages (from nltk) (8.0.4)\r\n",
      "Requirement already satisfied: joblib in /Users/shivanshmahajan/anaconda3/lib/python3.11/site-packages (from nltk) (1.2.0)\r\n",
      "Requirement already satisfied: regex>=2021.8.3 in /Users/shivanshmahajan/anaconda3/lib/python3.11/site-packages (from nltk) (2022.7.9)\r\n",
      "Requirement already satisfied: tqdm in /Users/shivanshmahajan/anaconda3/lib/python3.11/site-packages (from nltk) (4.65.0)\r\n"
     ]
    }
   ],
   "source": [
    "!pip install nltk\n"
   ]
  },
  {
   "cell_type": "code",
   "execution_count": 20,
   "id": "025854a5",
   "metadata": {},
   "outputs": [],
   "source": [
    "corpus=\"\"\"hello welcome to the juet.\n",
    "kya majbori rahi tumahri is college me aane se.\n",
    "ek baar ko tihar jail chal jao ,par yaha na aao.\n",
    "\"\"\""
   ]
  },
  {
   "cell_type": "code",
   "execution_count": 21,
   "id": "907a1fb9",
   "metadata": {},
   "outputs": [
    {
     "data": {
      "text/plain": [
       "'hello welcome to the juet.\\nkya majbori rahi tumahri is college me aane se.\\nek baar ko tihar jail chal jao ,par yaha na aao.\\n'"
      ]
     },
     "execution_count": 21,
     "metadata": {},
     "output_type": "execute_result"
    }
   ],
   "source": [
    "corpus"
   ]
  },
  {
   "cell_type": "code",
   "execution_count": 22,
   "id": "4ca70bda",
   "metadata": {},
   "outputs": [
    {
     "name": "stdout",
     "output_type": "stream",
     "text": [
      "hello welcome to the juet.\n",
      "kya majbori rahi tumahri is college me aane se.\n",
      "ek baar ko tihar jail chal jao ,par yaha na aao.\n",
      "\n"
     ]
    }
   ],
   "source": [
    "print(corpus)"
   ]
  },
  {
   "cell_type": "markdown",
   "id": "0fe6fc50",
   "metadata": {},
   "source": [
    "## tokenization"
   ]
  },
  {
   "cell_type": "code",
   "execution_count": 23,
   "id": "5554a9fd",
   "metadata": {},
   "outputs": [],
   "source": [
    "from nltk.tokenize import sent_tokenize"
   ]
  },
  {
   "cell_type": "code",
   "execution_count": 24,
   "id": "e2f4d601",
   "metadata": {},
   "outputs": [],
   "source": [
    "document=sent_tokenize(corpus)"
   ]
  },
  {
   "cell_type": "code",
   "execution_count": 25,
   "id": "632a898c",
   "metadata": {},
   "outputs": [
    {
     "data": {
      "text/plain": [
       "['hello welcome to the juet.',\n",
       " 'kya majbori rahi tumahri is college me aane se.',\n",
       " 'ek baar ko tihar jail chal jao ,par yaha na aao.']"
      ]
     },
     "execution_count": 25,
     "metadata": {},
     "output_type": "execute_result"
    }
   ],
   "source": [
    "document"
   ]
  },
  {
   "cell_type": "code",
   "execution_count": 26,
   "id": "e5d387ab",
   "metadata": {},
   "outputs": [
    {
     "data": {
      "text/plain": [
       "list"
      ]
     },
     "execution_count": 26,
     "metadata": {},
     "output_type": "execute_result"
    }
   ],
   "source": [
    "type(document)"
   ]
  },
  {
   "cell_type": "code",
   "execution_count": 27,
   "id": "d2e268d8",
   "metadata": {},
   "outputs": [
    {
     "name": "stdout",
     "output_type": "stream",
     "text": [
      "hello welcome to the juet.\n",
      "kya majbori rahi tumahri is college me aane se.\n",
      "ek baar ko tihar jail chal jao ,par yaha na aao.\n"
     ]
    }
   ],
   "source": [
    "for sentence in document:\n",
    "    print(sentence)"
   ]
  },
  {
   "cell_type": "code",
   "execution_count": 29,
   "id": "26f3f612",
   "metadata": {},
   "outputs": [],
   "source": [
    "from nltk.tokenize import word_tokenize"
   ]
  },
  {
   "cell_type": "code",
   "execution_count": 30,
   "id": "720b653b",
   "metadata": {},
   "outputs": [
    {
     "data": {
      "text/plain": [
       "['hello',\n",
       " 'welcome',\n",
       " 'to',\n",
       " 'the',\n",
       " 'juet',\n",
       " '.',\n",
       " 'kya',\n",
       " 'majbori',\n",
       " 'rahi',\n",
       " 'tumahri',\n",
       " 'is',\n",
       " 'college',\n",
       " 'me',\n",
       " 'aane',\n",
       " 'se',\n",
       " '.',\n",
       " 'ek',\n",
       " 'baar',\n",
       " 'ko',\n",
       " 'tihar',\n",
       " 'jail',\n",
       " 'chal',\n",
       " 'jao',\n",
       " ',',\n",
       " 'par',\n",
       " 'yaha',\n",
       " 'na',\n",
       " 'aao',\n",
       " '.']"
      ]
     },
     "execution_count": 30,
     "metadata": {},
     "output_type": "execute_result"
    }
   ],
   "source": [
    "word_tokenize(corpus)"
   ]
  },
  {
   "cell_type": "code",
   "execution_count": 31,
   "id": "13fe1e25",
   "metadata": {},
   "outputs": [
    {
     "name": "stdout",
     "output_type": "stream",
     "text": [
      "['hello', 'welcome', 'to', 'the', 'juet', '.']\n",
      "['kya', 'majbori', 'rahi', 'tumahri', 'is', 'college', 'me', 'aane', 'se', '.']\n",
      "['ek', 'baar', 'ko', 'tihar', 'jail', 'chal', 'jao', ',', 'par', 'yaha', 'na', 'aao', '.']\n"
     ]
    }
   ],
   "source": [
    "for sentence in document:\n",
    "    print(word_tokenize(sentence))"
   ]
  },
  {
   "cell_type": "code",
   "execution_count": 33,
   "id": "a76c615b",
   "metadata": {},
   "outputs": [],
   "source": [
    "from nltk.tokenize import wordpunct_tokenize"
   ]
  },
  {
   "cell_type": "code",
   "execution_count": 34,
   "id": "0e7811ee",
   "metadata": {},
   "outputs": [
    {
     "data": {
      "text/plain": [
       "['hello',\n",
       " 'welcome',\n",
       " 'to',\n",
       " 'the',\n",
       " 'juet',\n",
       " '.',\n",
       " 'kya',\n",
       " 'majbori',\n",
       " 'rahi',\n",
       " 'tumahri',\n",
       " 'is',\n",
       " 'college',\n",
       " 'me',\n",
       " 'aane',\n",
       " 'se',\n",
       " '.',\n",
       " 'ek',\n",
       " 'baar',\n",
       " 'ko',\n",
       " 'tihar',\n",
       " 'jail',\n",
       " 'chal',\n",
       " 'jao',\n",
       " ',',\n",
       " 'par',\n",
       " 'yaha',\n",
       " 'na',\n",
       " 'aao',\n",
       " '.']"
      ]
     },
     "execution_count": 34,
     "metadata": {},
     "output_type": "execute_result"
    }
   ],
   "source": [
    "wordpunct_tokenize(corpus)"
   ]
  },
  {
   "cell_type": "code",
   "execution_count": 36,
   "id": "9f68aa7d",
   "metadata": {},
   "outputs": [],
   "source": [
    "from nltk.tokenize import TreebankWordTokenizer"
   ]
  },
  {
   "cell_type": "code",
   "execution_count": 37,
   "id": "878e3261",
   "metadata": {},
   "outputs": [],
   "source": [
    "tokenizer=TreebankWordTokenizer()"
   ]
  },
  {
   "cell_type": "code",
   "execution_count": null,
   "id": "9bc725e9",
   "metadata": {},
   "outputs": [],
   "source": []
  }
 ],
 "metadata": {
  "kernelspec": {
   "display_name": "Python 3 (ipykernel)",
   "language": "python",
   "name": "python3"
  },
  "language_info": {
   "codemirror_mode": {
    "name": "ipython",
    "version": 3
   },
   "file_extension": ".py",
   "mimetype": "text/x-python",
   "name": "python",
   "nbconvert_exporter": "python",
   "pygments_lexer": "ipython3",
   "version": "3.11.5"
  }
 },
 "nbformat": 4,
 "nbformat_minor": 5
}
