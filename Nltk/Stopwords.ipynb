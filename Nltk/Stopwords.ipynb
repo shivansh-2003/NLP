{
 "cells": [
  {
   "cell_type": "code",
   "execution_count": 12,
   "id": "de8744a2",
   "metadata": {},
   "outputs": [],
   "source": [
    "paragraph=\"\"\"\n",
    "In the heart of a bustling city, where skyscrapers pierce the sky and neon lights illuminate the streets, lies \n",
    "a quaint cafe tucked away in a quiet corner. The aroma of freshly brewed coffee mingles with the scent of baked \n",
    "goods, creating an inviting atmosphere that draws in both locals and tourists alike. Inside, the cozy interior \n",
    "is adorned with vintage decor and comfortable seating, providing the perfect ambiance for conversations and \n",
    "relaxation. Patrons savor their favorite beverages and indulgent treats while chatting animatedly or immersing \n",
    "themselves in a good book. It's a serene oasis amidst the urban chaos, offering a brief escape from the hectic \n",
    "pace of modern life.\n",
    "\"\"\""
   ]
  },
  {
   "cell_type": "code",
   "execution_count": 13,
   "id": "012e8bdd",
   "metadata": {},
   "outputs": [],
   "source": [
    "from nltk.stem import PorterStemmer\n",
    "from nltk.corpus import stopwords"
   ]
  },
  {
   "cell_type": "code",
   "execution_count": 14,
   "id": "f98b78f0",
   "metadata": {},
   "outputs": [
    {
     "name": "stderr",
     "output_type": "stream",
     "text": [
      "[nltk_data] Downloading package stopwords to\n",
      "[nltk_data]     /Users/shivanshmahajan/nltk_data...\n",
      "[nltk_data]   Package stopwords is already up-to-date!\n"
     ]
    },
    {
     "data": {
      "text/plain": [
       "True"
      ]
     },
     "execution_count": 14,
     "metadata": {},
     "output_type": "execute_result"
    }
   ],
   "source": [
    "import nltk\n",
    "nltk.download(\"stopwords\")"
   ]
  },
  {
   "cell_type": "code",
   "execution_count": 15,
   "id": "8effd388",
   "metadata": {},
   "outputs": [],
   "source": [
    "stemmer=PorterStemmer()"
   ]
  },
  {
   "cell_type": "code",
   "execution_count": 23,
   "id": "469ce028",
   "metadata": {},
   "outputs": [],
   "source": [
    "sentences=nltk.sent_tokenize(paragraph)"
   ]
  },
  {
   "cell_type": "code",
   "execution_count": 24,
   "id": "54982004",
   "metadata": {},
   "outputs": [
    {
     "data": {
      "text/plain": [
       "['\\nIn the heart of a bustling city, where skyscrapers pierce the sky and neon lights illuminate the streets, lies \\na quaint cafe tucked away in a quiet corner.',\n",
       " 'The aroma of freshly brewed coffee mingles with the scent of baked \\ngoods, creating an inviting atmosphere that draws in both locals and tourists alike.',\n",
       " 'Inside, the cozy interior \\nis adorned with vintage decor and comfortable seating, providing the perfect ambiance for conversations and \\nrelaxation.',\n",
       " 'Patrons savor their favorite beverages and indulgent treats while chatting animatedly or immersing \\nthemselves in a good book.',\n",
       " \"It's a serene oasis amidst the urban chaos, offering a brief escape from the hectic \\npace of modern life.\"]"
      ]
     },
     "execution_count": 24,
     "metadata": {},
     "output_type": "execute_result"
    }
   ],
   "source": [
    "sentences"
   ]
  },
  {
   "cell_type": "code",
   "execution_count": 25,
   "id": "32d35de9",
   "metadata": {},
   "outputs": [],
   "source": [
    "#apply stopwords and thenfilter and then stemming"
   ]
  },
  {
   "cell_type": "code",
   "execution_count": 27,
   "id": "bb0cf6f5",
   "metadata": {},
   "outputs": [],
   "source": [
    "for i in range(len(sentences)):\n",
    "    words = nltk.word_tokenize(sentences[i])\n",
    "    words = [stemmer.stem(word) for word in words if word not in set(stopwords.words('english'))]\n",
    "    sentences[i] = ' '.join(words) "
   ]
  },
  {
   "cell_type": "code",
   "execution_count": 28,
   "id": "6e924623",
   "metadata": {},
   "outputs": [
    {
     "data": {
      "text/plain": [
       "['heart bustl citi , skyscrap pierc sky neon light illumin street , lie quaint cafe tuck away quiet corner .',\n",
       " 'aroma freshli brew coff mingl scent bake good , creat invit atmosph draw local tourist alik .',\n",
       " 'insid , cozi interior adorn vintag decor comfort seat , provid perfect ambianc conver relax .',\n",
       " 'patron savor favorit beverag indulg treat chat animatedli immer good book .',\n",
       " \"'s seren oasi amidst urban chao , offer brief escap hectic pace modern life .\"]"
      ]
     },
     "execution_count": 28,
     "metadata": {},
     "output_type": "execute_result"
    }
   ],
   "source": [
    "sentences"
   ]
  },
  {
   "cell_type": "code",
   "execution_count": 29,
   "id": "6c7b15f4",
   "metadata": {},
   "outputs": [],
   "source": [
    "from nltk.stem import SnowballStemmer"
   ]
  },
  {
   "cell_type": "code",
   "execution_count": 30,
   "id": "a19dcd12",
   "metadata": {},
   "outputs": [],
   "source": [
    "snowball=SnowballStemmer('english')"
   ]
  },
  {
   "cell_type": "code",
   "execution_count": 33,
   "id": "f8ef502f",
   "metadata": {},
   "outputs": [],
   "source": [
    "for i in range(len(sentences)):\n",
    "    words = nltk.word_tokenize(sentences[i])\n",
    "    words = [snowball.stem(word) for word in words if word not in set(stopwords.words('english'))]\n",
    "    sentences[i] = ' '.join(words) "
   ]
  },
  {
   "cell_type": "code",
   "execution_count": 34,
   "id": "39124e54",
   "metadata": {},
   "outputs": [
    {
     "data": {
      "text/plain": [
       "['heart bustl citi , skyscrap pierc sky neon light illumin street , lie quaint cafe tuck away quiet corner .',\n",
       " 'aroma fresh brew coff mingl scent bake good , creat invit atmosph draw local tourist alik .',\n",
       " 'insid , cozi interior adorn vintag decor comfort seat , provid perfect ambianc conver relax .',\n",
       " 'patron savor favorit beverag indulg treat chat animated immer good book .',\n",
       " \"'s seren oasi amidst urban chao , offer brief escap hectic pace modern life .\"]"
      ]
     },
     "execution_count": 34,
     "metadata": {},
     "output_type": "execute_result"
    }
   ],
   "source": [
    "sentences"
   ]
  },
  {
   "cell_type": "code",
   "execution_count": null,
   "id": "d45818dc",
   "metadata": {},
   "outputs": [],
   "source": []
  }
 ],
 "metadata": {
  "kernelspec": {
   "display_name": "Python 3 (ipykernel)",
   "language": "python",
   "name": "python3"
  },
  "language_info": {
   "codemirror_mode": {
    "name": "ipython",
    "version": 3
   },
   "file_extension": ".py",
   "mimetype": "text/x-python",
   "name": "python",
   "nbconvert_exporter": "python",
   "pygments_lexer": "ipython3",
   "version": "3.11.5"
  }
 },
 "nbformat": 4,
 "nbformat_minor": 5
}
